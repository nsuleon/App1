{
    "cells": [
        {
            "cell_type": "markdown",
            "metadata": {
                "collapsed": true
            },
            "source": "# Description\nFinancial analysis Part: 1"
        },
        {
            "cell_type": "code",
            "execution_count": 2,
            "metadata": {},
            "outputs": [
                {
                    "data": {
                        "text/html": "<div>\n<style scoped>\n    .dataframe tbody tr th:only-of-type {\n        vertical-align: middle;\n    }\n\n    .dataframe tbody tr th {\n        vertical-align: top;\n    }\n\n    .dataframe thead th {\n        text-align: right;\n    }\n</style>\n<table border=\"1\" class=\"dataframe\">\n  <thead>\n    <tr style=\"text-align: right;\">\n      <th></th>\n      <th>#RETAILER_NUMBER</th>\n      <th>RSO_NUMBER</th>\n      <th>DISTRIBUTOR_CODE</th>\n      <th>DENO_NUMBER</th>\n      <th>DENO_COUNT</th>\n      <th>LastUpdateTime</th>\n    </tr>\n  </thead>\n  <tbody>\n    <tr>\n      <th>0</th>\n      <td>1949272025</td>\n      <td>1949272024</td>\n      <td>ALTDBBL01</td>\n      <td>49</td>\n      <td>837</td>\n      <td>14/12/2020 21:45:26</td>\n    </tr>\n    <tr>\n      <th>1</th>\n      <td>1967021214</td>\n      <td>1986646476</td>\n      <td>BKASH</td>\n      <td>49</td>\n      <td>716</td>\n      <td>14/12/2020 21:45:26</td>\n    </tr>\n    <tr>\n      <th>2</th>\n      <td>1984217871</td>\n      <td>1986646476</td>\n      <td>BKASH</td>\n      <td>49</td>\n      <td>710</td>\n      <td>14/12/2020 21:45:26</td>\n    </tr>\n    <tr>\n      <th>3</th>\n      <td>1986684446</td>\n      <td>1986646476</td>\n      <td>BKASH</td>\n      <td>49</td>\n      <td>694</td>\n      <td>14/12/2020 21:45:26</td>\n    </tr>\n    <tr>\n      <th>4</th>\n      <td>1986646477</td>\n      <td>1986646476</td>\n      <td>BKASH</td>\n      <td>49</td>\n      <td>687</td>\n      <td>14/12/2020 21:45:26</td>\n    </tr>\n  </tbody>\n</table>\n</div>",
                        "text/plain": "   #RETAILER_NUMBER  RSO_NUMBER DISTRIBUTOR_CODE  DENO_NUMBER  DENO_COUNT  \\\n0        1949272025  1949272024        ALTDBBL01           49         837   \n1        1967021214  1986646476            BKASH           49         716   \n2        1984217871  1986646476            BKASH           49         710   \n3        1986684446  1986646476            BKASH           49         694   \n4        1986646477  1986646476            BKASH           49         687   \n\n        LastUpdateTime  \n0  14/12/2020 21:45:26  \n1  14/12/2020 21:45:26  \n2  14/12/2020 21:45:26  \n3  14/12/2020 21:45:26  \n4  14/12/2020 21:45:26  "
                    },
                    "execution_count": 2,
                    "metadata": {},
                    "output_type": "execute_result"
                }
            ],
            "source": "# The code was removed by Watson Studio for sharing."
        },
        {
            "cell_type": "code",
            "execution_count": null,
            "metadata": {},
            "outputs": [],
            "source": ""
        }
    ],
    "metadata": {
        "kernelspec": {
            "display_name": "Python 3.7",
            "language": "python",
            "name": "python3"
        },
        "language_info": {
            "codemirror_mode": {
                "name": "ipython",
                "version": 3
            },
            "file_extension": ".py",
            "mimetype": "text/x-python",
            "name": "python",
            "nbconvert_exporter": "python",
            "pygments_lexer": "ipython3",
            "version": "3.7.9"
        }
    },
    "nbformat": 4,
    "nbformat_minor": 1
}